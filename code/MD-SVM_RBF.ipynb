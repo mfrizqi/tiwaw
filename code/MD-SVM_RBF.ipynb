{
 "cells": [
  {
   "cell_type": "code",
   "execution_count": 31,
   "metadata": {},
   "outputs": [],
   "source": [
    "import pandas as pd \n",
    "import numpy as np\n",
    "import pickle\n",
    "import matplotlib.pyplot as plt\n",
    "from sklearn import svm\n",
    "from sklearn.svm import SVR\n",
    "from sklearn.model_selection import GridSearchCV\n",
    "from sklearn.model_selection import train_test_split\n",
    "from sklearn.metrics import r2_score\n",
    "from sklearn.metrics import mean_squared_error\n",
    "from sklearn.preprocessing import MinMaxScaler\n",
    "from sklearn.preprocessing import StandardScaler"
   ]
  },
  {
   "cell_type": "code",
   "execution_count": 32,
   "metadata": {
    "code_folding": []
   },
   "outputs": [
    {
     "data": {
      "text/plain": [
       "['TDB2i', 'ATSC8i', 'VR1_D.1', 'AATS8i.1', 'VR2_Dzv.1', 'minHBint8']"
      ]
     },
     "execution_count": 32,
     "metadata": {},
     "output_type": "execute_result"
    }
   ],
   "source": [
    "bestDesc = pickle.load(open('./data/bestDescV2.pkl', 'rb'))\n",
    "train = pickle.load(open('./dtTrain.pkl', 'rb'))\n",
    "test = pd.read_csv(\"data/TestSetNoId.csv\")\n",
    "bestDesc"
   ]
  },
  {
   "cell_type": "code",
   "execution_count": 33,
   "metadata": {},
   "outputs": [
    {
     "data": {
      "text/plain": [
       "((74, 6), (19, 6))"
      ]
     },
     "execution_count": 33,
     "metadata": {},
     "output_type": "execute_result"
    }
   ],
   "source": [
    "dfTrain = train.loc[:,bestDesc]\n",
    "dfTest = test.loc[:,bestDesc]\n",
    "\n",
    "dfTrain.shape, dfTest.shape"
   ]
  },
  {
   "cell_type": "code",
   "execution_count": 34,
   "metadata": {
    "code_folding": []
   },
   "outputs": [],
   "source": [
    "# 0. Preparation Data\n",
    "x_train = dfTrain.iloc[:,:]\n",
    "x_test = dfTest.iloc[:,:]\n",
    "y_train = train.iloc[:, [-1]]\n",
    "y_test = test.iloc[:,[-1]]"
   ]
  },
  {
   "cell_type": "code",
   "execution_count": 35,
   "metadata": {},
   "outputs": [],
   "source": [
    "# Feature Scaler using standard scaler\n",
    "# sc = StandardScaler()\n",
    "# scale_x_train = sc.fit_transform(x_train)\n",
    "# scala_x_test = sc.transform(x_test)"
   ]
  },
  {
   "cell_type": "code",
   "execution_count": 36,
   "metadata": {},
   "outputs": [],
   "source": [
    "# Feature Scaler\n",
    "# Using MinMaxScaler()\n",
    "# scaler = MinMaxScaler()\n",
    "# scaler.fit(x_train)\n",
    "# scale_x_train = scaler.transform(x_train)\n",
    "# scale_x_test = scaler.transform(x_test)"
   ]
  },
  {
   "cell_type": "code",
   "execution_count": 37,
   "metadata": {
    "code_folding": []
   },
   "outputs": [],
   "source": [
    "param_grid={\n",
    "            'C': [0.1, 1, 10, 100, 1000],\n",
    "            'gamma': ['auto','scale'],\n",
    "}"
   ]
  },
  {
   "cell_type": "code",
   "execution_count": 38,
   "metadata": {},
   "outputs": [
    {
     "name": "stderr",
     "output_type": "stream",
     "text": [
      "c:\\users\\muhammad fajar rizqi\\appdata\\local\\programs\\python\\python38-32\\lib\\site-packages\\sklearn\\utils\\validation.py:760: DataConversionWarning: A column-vector y was passed when a 1d array was expected. Please change the shape of y to (n_samples, ), for example using ravel().\n",
      "  y = column_or_1d(y, warn=True)\n"
     ]
    },
    {
     "data": {
      "text/plain": [
       "GridSearchCV(cv=5, error_score=nan,\n",
       "             estimator=SVR(C=1.0, cache_size=200, coef0=0.0, degree=3,\n",
       "                           epsilon=0.1, gamma='scale', kernel='rbf',\n",
       "                           max_iter=-1, shrinking=True, tol=0.001,\n",
       "                           verbose=False),\n",
       "             iid='deprecated', n_jobs=-1,\n",
       "             param_grid={'C': [0.1, 1, 10, 100, 1000],\n",
       "                         'gamma': ['auto', 'scale']},\n",
       "             pre_dispatch='2*n_jobs', refit=True, return_train_score=False,\n",
       "             scoring='neg_mean_squared_error', verbose=0)"
      ]
     },
     "execution_count": 38,
     "metadata": {},
     "output_type": "execute_result"
    }
   ],
   "source": [
    "gsc = GridSearchCV(\n",
    "        estimator=SVR(kernel='rbf'),\n",
    "        param_grid=param_grid,\n",
    "        cv=5, scoring='neg_mean_squared_error', verbose=0, n_jobs=-1)\n",
    "\n",
    "gsc.fit(x_train, y_train)"
   ]
  },
  {
   "cell_type": "code",
   "execution_count": 41,
   "metadata": {},
   "outputs": [
    {
     "data": {
      "text/plain": [
       "{'C': 1000, 'gamma': 'scale'}"
      ]
     },
     "execution_count": 41,
     "metadata": {},
     "output_type": "execute_result"
    }
   ],
   "source": [
    "gsc.best_params_\n"
   ]
  },
  {
   "cell_type": "code",
   "execution_count": 30,
   "metadata": {},
   "outputs": [
    {
     "name": "stdout",
     "output_type": "stream",
     "text": [
      "Best score: -0.2999115194933487\n"
     ]
    }
   ],
   "source": [
    "# View the accuracy score\n",
    "print('Best score:', gsc.best_score_) "
   ]
  },
  {
   "cell_type": "code",
   "execution_count": 42,
   "metadata": {},
   "outputs": [
    {
     "name": "stdout",
     "output_type": "stream",
     "text": [
      "Best C: 1000\n",
      "Best Kernel: rbf\n",
      "Best Gamma: scale\n"
     ]
    }
   ],
   "source": [
    "# View the best parameters for the model found using grid search\n",
    "print('Best C:',gsc.best_estimator_.C) \n",
    "print('Best Kernel:',gsc.best_estimator_.kernel)\n",
    "print('Best Gamma:',gsc.best_estimator_.gamma)"
   ]
  },
  {
   "cell_type": "code",
   "execution_count": 43,
   "metadata": {},
   "outputs": [
    {
     "data": {
      "text/plain": [
       "SVR(C=1000, cache_size=200, coef0=0.0, degree=3, epsilon=0.1, gamma='scale',\n",
       "    kernel='rbf', max_iter=-1, shrinking=True, tol=0.001, verbose=False)"
      ]
     },
     "execution_count": 43,
     "metadata": {},
     "output_type": "execute_result"
    }
   ],
   "source": [
    "model = SVR(C=gsc.best_params_['C'],kernel=\"rbf\", gamma=gsc.best_params_['gamma'])\n",
    "model"
   ]
  },
  {
   "cell_type": "code",
   "execution_count": 44,
   "metadata": {},
   "outputs": [
    {
     "name": "stderr",
     "output_type": "stream",
     "text": [
      "c:\\users\\muhammad fajar rizqi\\appdata\\local\\programs\\python\\python38-32\\lib\\site-packages\\sklearn\\utils\\validation.py:760: DataConversionWarning: A column-vector y was passed when a 1d array was expected. Please change the shape of y to (n_samples, ), for example using ravel().\n",
      "  y = column_or_1d(y, warn=True)\n"
     ]
    },
    {
     "data": {
      "text/plain": [
       "SVR(C=1000, cache_size=200, coef0=0.0, degree=3, epsilon=0.1, gamma='scale',\n",
       "    kernel='rbf', max_iter=-1, shrinking=True, tol=0.001, verbose=False)"
      ]
     },
     "execution_count": 44,
     "metadata": {},
     "output_type": "execute_result"
    }
   ],
   "source": [
    "model.fit(x_train, y_train)"
   ]
  },
  {
   "cell_type": "code",
   "execution_count": 45,
   "metadata": {},
   "outputs": [
    {
     "data": {
      "text/plain": [
       "(array([5.44913635, 4.85114143, 6.02422193, 6.45632091, 7.96356702,\n",
       "        7.94811649, 6.87027513, 6.30654972, 8.0295483 , 6.76347604,\n",
       "        8.05560768, 7.64420098, 6.04631393, 6.62799141, 6.63648084,\n",
       "        6.14261018, 8.04086527, 7.83544778, 8.04639646, 5.83073552,\n",
       "        8.04086527, 7.82089622, 7.56174068, 7.64312706, 7.62760926,\n",
       "        6.06297547, 6.09397267, 8.12858827, 7.54910365, 6.5489151 ,\n",
       "        7.87500836, 6.51579232, 6.530896  , 6.0191786 , 6.38558428,\n",
       "        7.84496341, 6.9903162 , 7.1424508 , 6.95085541, 7.93402412,\n",
       "        7.67835097, 5.81697997, 6.98381311, 5.94448013, 7.68936267,\n",
       "        7.44101159, 6.76751168, 6.41632847, 8.23300765, 6.71161702,\n",
       "        7.42287197, 7.18308683, 7.71241697, 6.25681509, 8.06525793,\n",
       "        6.79924016, 7.95134028, 7.49284206, 5.82464251, 7.00298335,\n",
       "        7.85872128, 8.05495012, 8.09124072, 7.66673333, 6.76134209,\n",
       "        7.05883589, 6.85920766, 7.9422124 , 6.63318194, 8.01890255,\n",
       "        7.28258569, 7.78714629, 8.13791962, 5.82104452]),\n",
       " array([6.67792854, 7.86871861, 6.14792996, 6.62956339, 6.97013609,\n",
       "        6.36692555, 7.13626135, 7.21387455, 7.36532786, 6.4674538 ,\n",
       "        6.569994  , 6.82389813, 6.80734571, 7.43727087, 7.45169055,\n",
       "        7.92190071, 8.42857124, 8.16243648, 8.42059472]))"
      ]
     },
     "execution_count": 45,
     "metadata": {},
     "output_type": "execute_result"
    }
   ],
   "source": [
    "y_train_pred = model.predict(x_train)\n",
    "y_test_pred = model.predict(x_test)\n",
    "y_train_pred, y_test_pred"
   ]
  },
  {
   "cell_type": "code",
   "execution_count": 46,
   "metadata": {},
   "outputs": [
    {
     "data": {
      "text/plain": [
       "(0.7670675608379445, 0.36194441651530607)"
      ]
     },
     "execution_count": 46,
     "metadata": {},
     "output_type": "execute_result"
    }
   ],
   "source": [
    "r2_train = r2_score(y_train,y_train_pred)\n",
    "r2_test = r2_score(y_test,y_test_pred)\n",
    "\n",
    "r2_train, r2_test"
   ]
  },
  {
   "cell_type": "code",
   "execution_count": 20,
   "metadata": {
    "code_folding": [
     0
    ],
    "collapsed": true
   },
   "outputs": [
    {
     "name": "stdout",
     "output_type": "stream",
     "text": [
      "[6.71] 6.595694240152738\n",
      "[7.119] 7.79737889331784\n",
      "[6.347] 6.043534853434038\n",
      "[6.057] 6.908664209510106\n",
      "[6.108] 6.929055161903192\n",
      "[6.468] 6.322069239669303\n",
      "[7.301] 6.957084953823709\n",
      "[7.26] 7.030581007791624\n",
      "[6.921] 6.7277811198588315\n",
      "[6.824] 6.563252633411593\n",
      "[6.468] 6.884948482776735\n",
      "[6.971] 7.215372291045695\n",
      "[6.824] 6.859482267981206\n",
      "[7.523] 7.4470653136216916\n",
      "[7.337] 7.5691283188807565\n",
      "[8.] 7.991488995585654\n",
      "[7.62] 8.283952167396363\n",
      "[7.222] 8.122202983156738\n",
      "[8.046] 8.576014492649618\n"
     ]
    }
   ],
   "source": [
    "for i in range(len(y_test)):\n",
    "    print(y_test.values[i], y_test_pred[i])"
   ]
  },
  {
   "cell_type": "code",
   "execution_count": null,
   "metadata": {},
   "outputs": [],
   "source": [
    "################################"
   ]
  },
  {
   "cell_type": "code",
   "execution_count": 18,
   "metadata": {},
   "outputs": [],
   "source": [
    "# mse = mean_squared_error(y_test,y_pred)\n",
    "# rmse = np.sqrt(mse)\n",
    "# print(\"RMSE :\" , rmse)"
   ]
  },
  {
   "cell_type": "code",
   "execution_count": 19,
   "metadata": {},
   "outputs": [],
   "source": [
    "# r2 = r2_score(y_test,pred)\n",
    "# print(\"r2 :\",r2)"
   ]
  },
  {
   "cell_type": "code",
   "execution_count": 20,
   "metadata": {
    "code_folding": [
     1
    ],
    "scrolled": true
   },
   "outputs": [],
   "source": [
    "# Testing 1 descriptor\n",
    "# df = pd.DataFrame(list(zip(dfDesc.iloc[:,0], dtTrain.iloc[:,-1])), \n",
    "#                columns =[dfDesc.columns.values[1], dtTrain.columns.values[-1]])\n",
    "# df"
   ]
  },
  {
   "cell_type": "code",
   "execution_count": 23,
   "metadata": {
    "code_folding": [
     0
    ]
   },
   "outputs": [],
   "source": [
    "# # Get x & y for plot\n",
    "# X = df.iloc[:,0]\n",
    "# y = df.iloc[:,-1]\n",
    "# X = X.to_numpy()\n",
    "# X = X.reshape(-1,1)"
   ]
  },
  {
   "cell_type": "code",
   "execution_count": null,
   "metadata": {
    "code_folding": [
     0
    ]
   },
   "outputs": [],
   "source": [
    "### SVM Here\n",
    "\n",
    "# Fit regression model\n",
    "svr_rbf = SVR(kernel='rbf', C=1000, gamma=0.1, epsilon=.1)\n",
    "svr_lin = SVR(kernel='linear', C=1000, gamma=0.1)\n",
    "svr_poly = SVR(kernel='poly', C=1000, gamma=0.1, degree=0, epsilon=.1,\n",
    "               coef0=1)"
   ]
  },
  {
   "cell_type": "code",
   "execution_count": null,
   "metadata": {},
   "outputs": [],
   "source": [
    "plt.scatter(y_train,y_train_pred)"
   ]
  },
  {
   "cell_type": "code",
   "execution_count": null,
   "metadata": {},
   "outputs": [],
   "source": []
  }
 ],
 "metadata": {
  "kernelspec": {
   "display_name": "Python 3",
   "language": "python",
   "name": "python3"
  },
  "language_info": {
   "codemirror_mode": {
    "name": "ipython",
    "version": 3
   },
   "file_extension": ".py",
   "mimetype": "text/x-python",
   "name": "python",
   "nbconvert_exporter": "python",
   "pygments_lexer": "ipython3",
   "version": "3.8.2"
  }
 },
 "nbformat": 4,
 "nbformat_minor": 4
}
