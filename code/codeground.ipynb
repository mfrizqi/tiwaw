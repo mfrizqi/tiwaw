{
 "cells": [
  {
   "cell_type": "code",
   "execution_count": 45,
   "metadata": {},
   "outputs": [],
   "source": [
    "import winsound\n",
    "frequency = 2500  # Set Frequency To 2500 Hertz\n",
    "duration = 150  # Set Duration To 1000 ms == 1 second\n",
    "\n",
    "d = 150\n",
    "freq = [2500,3000,3500,4000]\n",
    "for i in freq:\n",
    "    winsound.Beep(i, d)\n",
    "    \n",
    "d = 150\n",
    "freq = [4000,3600,4000,3600]\n",
    "for i in freq:\n",
    "    winsound.Beep(i, d)\n",
    "# winsound.Beep(frequency, duration)"
   ]
  },
  {
   "cell_type": "code",
   "execution_count": 2,
   "metadata": {},
   "outputs": [],
   "source": [
    "import pandas as pd \n",
    "import numpy as np\n",
    "import pickle \n",
    "from sklearn.linear_model import LinearRegression\n",
    "from sklearn.model_selection import train_test_split\n",
    "from sklearn.metrics import mean_squared_error\n",
    "from itertools import combinations\n",
    "from itertools import permutations\n",
    "\n",
    "def acceptanceProbability (bestMSE, newMSE, temp , K):\n",
    "        # If the new solution is better, accept it\n",
    "        if (newMSE < bestMSE):\n",
    "            return 1.0\n",
    "        # If the new solution is worse, calculate an acceptance probability\n",
    "        return np.exp( K * (newMSE - bestMSE) / temp)\n",
    "    \n",
    "def calcMSE(combDesc, x_train, x_val, y_train, y_val, model):\n",
    "    x_train_slice = x_train.iloc[:,combDesc]\n",
    "    x_val_slice = x_val.iloc[:,combDesc]\n",
    "    model.fit(x_train_slice, y_train)\n",
    "    y_pred = model.predict(x_val_slice)\n",
    "    return mean_squared_error(y_val, y_pred)\n",
    "\n",
    "unpick_dtTrain = pd.read_pickle(\"./dtTrain.pkl\")\n",
    "inDt = open(\"dtTrain.pkl\",\"rb\")\n",
    "dtTrain = pickle.load(inDt)"
   ]
  },
  {
   "cell_type": "code",
   "execution_count": 3,
   "metadata": {},
   "outputs": [
    {
     "name": "stdout",
     "output_type": "stream",
     "text": [
      "Best MSE :  0.2416606713971202\n"
     ]
    }
   ],
   "source": [
    "# 0. Preparation Data\n",
    "train, val = train_test_split(dtTrain, test_size = 0.2, random_state = 45)\n",
    "\n",
    "x_train = train.iloc[:,:-1]\n",
    "x_val = val.iloc[:,:-1]\n",
    "y_train = train.iloc[:, [-1]]\n",
    "y_val = val.iloc[:,[-1]]\n",
    "\n",
    "model = LinearRegression()\n",
    "\n",
    "bestComb = [51, 18, 69, 62, 14, 36]\n",
    "\n",
    "# MSE\n",
    "bestMSE = calcMSE(bestComb, x_train, x_val, y_train, y_val, model)\n",
    "print(\"Best MSE : \", bestMSE)\n"
   ]
  },
  {
   "cell_type": "code",
   "execution_count": null,
   "metadata": {},
   "outputs": [],
   "source": []
  }
 ],
 "metadata": {
  "kernelspec": {
   "display_name": "Python 3",
   "language": "python",
   "name": "python3"
  },
  "language_info": {
   "codemirror_mode": {
    "name": "ipython",
    "version": 3
   },
   "file_extension": ".py",
   "mimetype": "text/x-python",
   "name": "python",
   "nbconvert_exporter": "python",
   "pygments_lexer": "ipython3",
   "version": "3.8.1"
  }
 },
 "nbformat": 4,
 "nbformat_minor": 4
}
