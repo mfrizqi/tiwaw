{
 "cells": [
  {
   "cell_type": "code",
   "execution_count": 1,
   "metadata": {},
   "outputs": [],
   "source": [
    "import pandas as pd \n",
    "import numpy as np\n",
    "import pickle\n",
    "import matplotlib.pyplot as plt\n",
    "from sklearn import svm\n",
    "from sklearn.svm import SVR\n",
    "from sklearn.model_selection import GridSearchCV\n",
    "from sklearn.model_selection import train_test_split\n",
    "from sklearn.metrics import r2_score\n",
    "from sklearn.metrics import mean_squared_error\n",
    "from sklearn.preprocessing import MinMaxScaler\n",
    "from sklearn.preprocessing import StandardScaler"
   ]
  },
  {
   "cell_type": "code",
   "execution_count": 2,
   "metadata": {
    "code_folding": []
   },
   "outputs": [
    {
     "data": {
      "text/plain": [
       "['TDB2i', 'ATSC8i', 'VR1_D.1', 'AATS8i.1', 'VR2_Dzv.1', 'minHBint8']"
      ]
     },
     "execution_count": 2,
     "metadata": {},
     "output_type": "execute_result"
    }
   ],
   "source": [
    "bestDesc = pickle.load(open('./data/bestDescV2.pkl', 'rb'))\n",
    "train = pickle.load(open('./dtTrain.pkl', 'rb'))\n",
    "test = pd.read_csv(\"data/TestSetNoId.csv\")\n",
    "bestDesc"
   ]
  },
  {
   "cell_type": "code",
   "execution_count": 3,
   "metadata": {},
   "outputs": [
    {
     "data": {
      "text/plain": [
       "((74, 6), (19, 6))"
      ]
     },
     "execution_count": 3,
     "metadata": {},
     "output_type": "execute_result"
    }
   ],
   "source": [
    "dfTrain = train.loc[:,bestDesc]\n",
    "dfTest = test.loc[:,bestDesc]\n",
    "\n",
    "dfTrain.shape, dfTest.shape"
   ]
  },
  {
   "cell_type": "code",
   "execution_count": 4,
   "metadata": {
    "code_folding": []
   },
   "outputs": [],
   "source": [
    "# 0. Preparation Data\n",
    "x_train = dfTrain.iloc[:,:]\n",
    "x_test = dfTest.iloc[:,:]\n",
    "y_train = train.iloc[:, [-1]]\n",
    "y_test = test.iloc[:,[-1]]"
   ]
  },
  {
   "cell_type": "code",
   "execution_count": 5,
   "metadata": {},
   "outputs": [],
   "source": [
    "# Feature Scaler using standard scaler\n",
    "# sc = StandardScaler()\n",
    "# scale_x_train = sc.fit_transform(x_train)\n",
    "# scala_x_test = sc.transform(x_test)"
   ]
  },
  {
   "cell_type": "code",
   "execution_count": 6,
   "metadata": {},
   "outputs": [],
   "source": [
    "# Feature Scaler\n",
    "# Using MinMaxScaler()\n",
    "# scaler = MinMaxScaler()\n",
    "# scaler.fit(x_train)\n",
    "# scale_x_train = scaler.transform(x_train)\n",
    "# scale_x_test = scaler.transform(x_test)"
   ]
  },
  {
   "cell_type": "code",
   "execution_count": 7,
   "metadata": {
    "code_folding": []
   },
   "outputs": [],
   "source": [
    "param_grid={\n",
    "            'C': [0.1, 1, 10, 100, 1000],\n",
    "            'degree': [1,2,3,4,5],\n",
    "}"
   ]
  },
  {
   "cell_type": "code",
   "execution_count": 8,
   "metadata": {},
   "outputs": [
    {
     "name": "stderr",
     "output_type": "stream",
     "text": [
      "c:\\users\\muhammad fajar rizqi\\appdata\\local\\programs\\python\\python38-32\\lib\\site-packages\\sklearn\\utils\\validation.py:760: DataConversionWarning: A column-vector y was passed when a 1d array was expected. Please change the shape of y to (n_samples, ), for example using ravel().\n",
      "  y = column_or_1d(y, warn=True)\n"
     ]
    },
    {
     "data": {
      "text/plain": [
       "GridSearchCV(cv=5, error_score=nan,\n",
       "             estimator=SVR(C=1.0, cache_size=200, coef0=0.0, degree=3,\n",
       "                           epsilon=0.1, gamma='scale', kernel='poly',\n",
       "                           max_iter=-1, shrinking=True, tol=0.001,\n",
       "                           verbose=False),\n",
       "             iid='deprecated', n_jobs=-1,\n",
       "             param_grid={'C': [0.1, 1, 10, 100, 1000],\n",
       "                         'degree': [1, 2, 3, 4, 5]},\n",
       "             pre_dispatch='2*n_jobs', refit=True, return_train_score=False,\n",
       "             scoring='neg_mean_squared_error', verbose=0)"
      ]
     },
     "execution_count": 8,
     "metadata": {},
     "output_type": "execute_result"
    }
   ],
   "source": [
    "gsc = GridSearchCV(\n",
    "        estimator=SVR(kernel='poly'),\n",
    "        param_grid=param_grid,\n",
    "        cv=5, scoring='neg_mean_squared_error', verbose=0, n_jobs=-1)\n",
    "\n",
    "gsc.fit(x_train, y_train)"
   ]
  },
  {
   "cell_type": "code",
   "execution_count": 9,
   "metadata": {},
   "outputs": [
    {
     "data": {
      "text/plain": [
       "{'C': 100, 'degree': 5}"
      ]
     },
     "execution_count": 9,
     "metadata": {},
     "output_type": "execute_result"
    }
   ],
   "source": [
    "gsc.best_params_"
   ]
  },
  {
   "cell_type": "code",
   "execution_count": 10,
   "metadata": {},
   "outputs": [
    {
     "name": "stdout",
     "output_type": "stream",
     "text": [
      "Best score: -0.32537381049445596\n"
     ]
    }
   ],
   "source": [
    "# View the accuracy score\n",
    "print('Best score:', gsc.best_score_) "
   ]
  },
  {
   "cell_type": "code",
   "execution_count": 17,
   "metadata": {},
   "outputs": [
    {
     "name": "stdout",
     "output_type": "stream",
     "text": [
      "Best C: 100\n",
      "Best Kernel: poly\n",
      "Best Degree: 5\n"
     ]
    }
   ],
   "source": [
    "# View the best parameters for the model found using grid search\n",
    "print('Best C:',gsc.best_estimator_.C) \n",
    "print('Best Kernel:',gsc.best_estimator_.kernel)\n",
    "print('Best Degree:',gsc.best_estimator_.degree)"
   ]
  },
  {
   "cell_type": "code",
   "execution_count": 12,
   "metadata": {},
   "outputs": [
    {
     "data": {
      "text/plain": [
       "SVR(C=100, cache_size=200, coef0=0.0, degree=5, epsilon=0.1, gamma='scale',\n",
       "    kernel='poly', max_iter=-1, shrinking=True, tol=0.001, verbose=False)"
      ]
     },
     "execution_count": 12,
     "metadata": {},
     "output_type": "execute_result"
    }
   ],
   "source": [
    "model = SVR(C=gsc.best_params_['C'],kernel=\"poly\", degree=gsc.best_params_['degree'])\n",
    "model"
   ]
  },
  {
   "cell_type": "code",
   "execution_count": 13,
   "metadata": {},
   "outputs": [
    {
     "name": "stderr",
     "output_type": "stream",
     "text": [
      "c:\\users\\muhammad fajar rizqi\\appdata\\local\\programs\\python\\python38-32\\lib\\site-packages\\sklearn\\utils\\validation.py:760: DataConversionWarning: A column-vector y was passed when a 1d array was expected. Please change the shape of y to (n_samples, ), for example using ravel().\n",
      "  y = column_or_1d(y, warn=True)\n"
     ]
    },
    {
     "data": {
      "text/plain": [
       "SVR(C=100, cache_size=200, coef0=0.0, degree=5, epsilon=0.1, gamma='scale',\n",
       "    kernel='poly', max_iter=-1, shrinking=True, tol=0.001, verbose=False)"
      ]
     },
     "execution_count": 13,
     "metadata": {},
     "output_type": "execute_result"
    }
   ],
   "source": [
    "model.fit(x_train, y_train)"
   ]
  },
  {
   "cell_type": "code",
   "execution_count": 14,
   "metadata": {},
   "outputs": [
    {
     "data": {
      "text/plain": [
       "(array([5.68598421, 5.24968763, 6.04567578, 6.40225509, 7.77369367,\n",
       "        7.95441739, 6.66598541, 6.36577857, 8.23839543, 6.44055532,\n",
       "        8.06017277, 7.94236715, 6.03891313, 6.62555649, 6.61693815,\n",
       "        6.40932631, 8.07504955, 8.02084535, 8.14672811, 5.96119166,\n",
       "        8.07504955, 7.87384442, 7.4819541 , 7.32136373, 7.51080502,\n",
       "        6.11202221, 6.09397061, 8.21533918, 7.53601606, 6.29699366,\n",
       "        7.63944939, 6.37673361, 6.30882028, 6.06726654, 6.18545259,\n",
       "        8.14305027, 6.75497059, 7.1574557 , 6.59795748, 7.70811694,\n",
       "        7.71143841, 5.98569832, 6.82262179, 6.03777371, 7.63830632,\n",
       "        7.29478181, 6.58131111, 6.15342945, 8.25488282, 6.67454882,\n",
       "        7.42286379, 7.13295937, 7.4329373 , 6.19203785, 7.86388987,\n",
       "        6.63575768, 8.192586  , 7.34189745, 5.98175629, 7.002743  ,\n",
       "        7.63154706, 8.02818649, 8.06925817, 7.77276081, 6.57509541,\n",
       "        7.04596526, 6.85769212, 7.7915443 , 6.7091218 , 7.82039154,\n",
       "        7.16216098, 7.68313867, 8.14430279, 5.91253772]),\n",
       " array([6.65998938, 7.86034683, 6.19898478, 6.90060709, 6.87911223,\n",
       "        6.24277238, 7.04887488, 7.22725687, 5.3209078 , 6.24988714,\n",
       "        6.2505282 , 6.41359885, 6.67287726, 7.94583298, 7.23758699,\n",
       "        7.67033833, 8.65490313, 8.13001924, 8.87499758]))"
      ]
     },
     "execution_count": 14,
     "metadata": {},
     "output_type": "execute_result"
    }
   ],
   "source": [
    "y_train_pred = model.predict(x_train)\n",
    "y_test_pred = model.predict(x_test)\n",
    "y_train_pred, y_test_pred"
   ]
  },
  {
   "cell_type": "code",
   "execution_count": 15,
   "metadata": {},
   "outputs": [
    {
     "data": {
      "text/plain": [
       "(0.7352477951177665, -0.37681148180488133)"
      ]
     },
     "execution_count": 15,
     "metadata": {},
     "output_type": "execute_result"
    }
   ],
   "source": [
    "r2_train = r2_score(y_train,y_train_pred)\n",
    "r2_test = r2_score(y_test,y_test_pred)\n",
    "\n",
    "r2_train, r2_test"
   ]
  },
  {
   "cell_type": "code",
   "execution_count": 20,
   "metadata": {
    "code_folding": [
     0
    ],
    "collapsed": true
   },
   "outputs": [
    {
     "name": "stdout",
     "output_type": "stream",
     "text": [
      "[6.71] 6.595694240152738\n",
      "[7.119] 7.79737889331784\n",
      "[6.347] 6.043534853434038\n",
      "[6.057] 6.908664209510106\n",
      "[6.108] 6.929055161903192\n",
      "[6.468] 6.322069239669303\n",
      "[7.301] 6.957084953823709\n",
      "[7.26] 7.030581007791624\n",
      "[6.921] 6.7277811198588315\n",
      "[6.824] 6.563252633411593\n",
      "[6.468] 6.884948482776735\n",
      "[6.971] 7.215372291045695\n",
      "[6.824] 6.859482267981206\n",
      "[7.523] 7.4470653136216916\n",
      "[7.337] 7.5691283188807565\n",
      "[8.] 7.991488995585654\n",
      "[7.62] 8.283952167396363\n",
      "[7.222] 8.122202983156738\n",
      "[8.046] 8.576014492649618\n"
     ]
    }
   ],
   "source": [
    "for i in range(len(y_test)):\n",
    "    print(y_test.values[i], y_test_pred[i])"
   ]
  },
  {
   "cell_type": "code",
   "execution_count": null,
   "metadata": {},
   "outputs": [],
   "source": [
    "################################"
   ]
  },
  {
   "cell_type": "code",
   "execution_count": 18,
   "metadata": {},
   "outputs": [],
   "source": [
    "# mse = mean_squared_error(y_test,y_pred)\n",
    "# rmse = np.sqrt(mse)\n",
    "# print(\"RMSE :\" , rmse)"
   ]
  },
  {
   "cell_type": "code",
   "execution_count": 19,
   "metadata": {},
   "outputs": [],
   "source": [
    "# r2 = r2_score(y_test,pred)\n",
    "# print(\"r2 :\",r2)"
   ]
  },
  {
   "cell_type": "code",
   "execution_count": 20,
   "metadata": {
    "code_folding": [
     1
    ],
    "scrolled": true
   },
   "outputs": [],
   "source": [
    "# Testing 1 descriptor\n",
    "# df = pd.DataFrame(list(zip(dfDesc.iloc[:,0], dtTrain.iloc[:,-1])), \n",
    "#                columns =[dfDesc.columns.values[1], dtTrain.columns.values[-1]])\n",
    "# df"
   ]
  },
  {
   "cell_type": "code",
   "execution_count": 23,
   "metadata": {
    "code_folding": [
     0
    ]
   },
   "outputs": [],
   "source": [
    "# # Get x & y for plot\n",
    "# X = df.iloc[:,0]\n",
    "# y = df.iloc[:,-1]\n",
    "# X = X.to_numpy()\n",
    "# X = X.reshape(-1,1)"
   ]
  },
  {
   "cell_type": "code",
   "execution_count": null,
   "metadata": {
    "code_folding": [
     0
    ]
   },
   "outputs": [],
   "source": [
    "### SVM Here\n",
    "\n",
    "# Fit regression model\n",
    "svr_rbf = SVR(kernel='rbf', C=1000, gamma=0.1, epsilon=.1)\n",
    "svr_lin = SVR(kernel='linear', C=1000, gamma=0.1)\n",
    "svr_poly = SVR(kernel='poly', C=1000, gamma=0.1, degree=0, epsilon=.1,\n",
    "               coef0=1)"
   ]
  },
  {
   "cell_type": "code",
   "execution_count": null,
   "metadata": {},
   "outputs": [],
   "source": [
    "plt.scatter(y_train,y_train_pred)"
   ]
  },
  {
   "cell_type": "code",
   "execution_count": null,
   "metadata": {},
   "outputs": [],
   "source": []
  }
 ],
 "metadata": {
  "kernelspec": {
   "display_name": "Python 3",
   "language": "python",
   "name": "python3"
  },
  "language_info": {
   "codemirror_mode": {
    "name": "ipython",
    "version": 3
   },
   "file_extension": ".py",
   "mimetype": "text/x-python",
   "name": "python",
   "nbconvert_exporter": "python",
   "pygments_lexer": "ipython3",
   "version": "3.8.2"
  }
 },
 "nbformat": 4,
 "nbformat_minor": 4
}
