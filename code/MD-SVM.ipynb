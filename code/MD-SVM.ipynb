{
 "cells": [
  {
   "cell_type": "code",
   "execution_count": 28,
   "metadata": {},
   "outputs": [],
   "source": [
    "import pandas as pd \n",
    "import numpy as np\n",
    "import pickle\n",
    "import matplotlib.pyplot as plt\n",
    "from sklearn import svm\n",
    "from sklearn.svm import SVR\n",
    "from sklearn.model_selection import train_test_split\n",
    "from sklearn.metrics import r2_score\n",
    "from sklearn.metrics import mean_squared_error"
   ]
  },
  {
   "cell_type": "code",
   "execution_count": 29,
   "metadata": {
    "code_folding": []
   },
   "outputs": [],
   "source": [
    "bestDesc = pickle.load(open('./data/bestDescV1.pkl', 'rb'))\n",
    "train = pickle.load(open('./dtTrain.pkl', 'rb'))\n",
    "test = pd.read_csv(\"data/TestSetNoId.csv\")"
   ]
  },
  {
   "cell_type": "code",
   "execution_count": 30,
   "metadata": {},
   "outputs": [
    {
     "data": {
      "text/plain": [
       "((74, 6), (19, 6))"
      ]
     },
     "execution_count": 30,
     "metadata": {},
     "output_type": "execute_result"
    }
   ],
   "source": [
    "dfTrain = train.loc[:,bestDesc]\n",
    "dfTest = test.loc[:,bestDesc]\n",
    "\n",
    "dfTrain.shape, dfTest.shape"
   ]
  },
  {
   "cell_type": "code",
   "execution_count": 36,
   "metadata": {
    "code_folding": []
   },
   "outputs": [],
   "source": [
    "# 0. Preparation Data\n",
    "x_train = dfTrain.iloc[:,:]\n",
    "x_test = dfTest.iloc[:,:]\n",
    "y_train = train.iloc[:, [-1]]\n",
    "y_test = test.iloc[:,[-1]]"
   ]
  },
  {
   "cell_type": "code",
   "execution_count": 37,
   "metadata": {},
   "outputs": [
    {
     "data": {
      "text/plain": [
       "SVR(C=1.0, cache_size=200, coef0=0.0, degree=3, epsilon=0.1, gamma='scale',\n",
       "    kernel='rbf', max_iter=-1, shrinking=True, tol=0.001, verbose=False)"
      ]
     },
     "execution_count": 37,
     "metadata": {},
     "output_type": "execute_result"
    }
   ],
   "source": [
    "model = SVR()\n",
    "model"
   ]
  },
  {
   "cell_type": "code",
   "execution_count": 38,
   "metadata": {},
   "outputs": [
    {
     "name": "stderr",
     "output_type": "stream",
     "text": [
      "c:\\users\\muhammad fajar rizqi\\appdata\\local\\programs\\python\\python38-32\\lib\\site-packages\\sklearn\\utils\\validation.py:760: DataConversionWarning: A column-vector y was passed when a 1d array was expected. Please change the shape of y to (n_samples, ), for example using ravel().\n",
      "  y = column_or_1d(y, warn=True)\n"
     ]
    },
    {
     "data": {
      "text/plain": [
       "SVR(C=1.0, cache_size=200, coef0=0.0, degree=3, epsilon=0.1, gamma='scale',\n",
       "    kernel='rbf', max_iter=-1, shrinking=True, tol=0.001, verbose=False)"
      ]
     },
     "execution_count": 38,
     "metadata": {},
     "output_type": "execute_result"
    }
   ],
   "source": [
    "model.fit(x_train, y_train)"
   ]
  },
  {
   "cell_type": "code",
   "execution_count": 41,
   "metadata": {},
   "outputs": [
    {
     "data": {
      "text/plain": [
       "(array([6.99633495, 6.89287749, 6.68155757, 6.69411418, 7.04290644,\n",
       "        7.48265863, 6.8326957 , 6.99438239, 7.31709839, 6.72691833,\n",
       "        7.20522606, 7.36402225, 6.73047687, 7.1274864 , 7.10347671,\n",
       "        6.77241263, 7.30186322, 7.43543669, 7.60154206, 6.62427826,\n",
       "        7.30186322, 7.9550275 , 7.12541859, 6.96438102, 7.19922074,\n",
       "        6.71119622, 6.74689074, 7.34175558, 7.29958388, 6.66720426,\n",
       "        7.01042123, 7.26079256, 6.66721955, 6.68369748, 6.58358839,\n",
       "        7.66192517, 6.92831601, 7.32695565, 6.70542568, 7.00785206,\n",
       "        7.44430491, 6.57033657, 7.61946167, 6.62996842, 7.33826854,\n",
       "        7.07909977, 6.65817511, 6.64317186, 7.08369672, 6.97673086,\n",
       "        7.50426533, 7.11993059, 7.09367879, 6.6814044 , 7.08461678,\n",
       "        6.64446387, 7.46807486, 7.08189331, 6.69781459, 7.07903347,\n",
       "        6.98700717, 7.61058082, 7.20453469, 7.3877588 , 6.69875744,\n",
       "        8.00355701, 7.62572815, 7.49499339, 7.09884092, 7.04244878,\n",
       "        7.03280731, 7.13432746, 7.19722937, 6.60328855]),\n",
       " array([7.14443773, 7.30323736, 6.74412092, 7.14646229, 7.11733485,\n",
       "        6.75256821, 7.32010785, 7.31229467, 7.88051579, 6.70077522,\n",
       "        6.67689686, 6.68677098, 6.9058018 , 7.45559293, 6.95212291,\n",
       "        6.99508732, 7.29017055, 7.57092359, 7.61180077]))"
      ]
     },
     "execution_count": 41,
     "metadata": {},
     "output_type": "execute_result"
    }
   ],
   "source": [
    "x_train_pred = model.predict(x_train)\n",
    "x_test_pred = model.predict(x_test)\n",
    "x_train_pred, x_test_pred"
   ]
  },
  {
   "cell_type": "code",
   "execution_count": 43,
   "metadata": {},
   "outputs": [
    {
     "data": {
      "text/plain": [
       "(0.2597099587502244, 0.10110344648328928)"
      ]
     },
     "execution_count": 43,
     "metadata": {},
     "output_type": "execute_result"
    }
   ],
   "source": [
    "r2_train = r2_score(y_train,x_train_pred)\n",
    "r2_test = r2_score(y_test,x_test_pred)\n",
    "\n",
    "r2_train, r2_test"
   ]
  },
  {
   "cell_type": "code",
   "execution_count": 12,
   "metadata": {},
   "outputs": [
    {
     "name": "stdout",
     "output_type": "stream",
     "text": [
      "RMSE : 0.5290859329810076\n"
     ]
    }
   ],
   "source": [
    "mse = mean_squared_error(y_test,y_pred)\n",
    "rmse = np.sqrt(mse)\n",
    "print(\"RMSE :\" , rmse)"
   ]
  },
  {
   "cell_type": "code",
   "execution_count": 15,
   "metadata": {},
   "outputs": [
    {
     "name": "stdout",
     "output_type": "stream",
     "text": [
      "r2 : 0.10110344648328928\n"
     ]
    }
   ],
   "source": [
    "r2 = r2_score(y_test,pred)\n",
    "print(\"r2 :\",r2)"
   ]
  },
  {
   "cell_type": "code",
   "execution_count": null,
   "metadata": {
    "code_folding": [
     1
    ],
    "scrolled": true
   },
   "outputs": [],
   "source": [
    "# Testing 1 descriptor\n",
    "df = pd.DataFrame(list(zip(dfDesc.iloc[:,0], dtTrain.iloc[:,-1])), \n",
    "               columns =[dfDesc.columns.values[1], dtTrain.columns.values[-1]])\n",
    "df"
   ]
  },
  {
   "cell_type": "code",
   "execution_count": null,
   "metadata": {
    "code_folding": [
     0
    ]
   },
   "outputs": [],
   "source": [
    "# Get x & y for plot\n",
    "X = df.iloc[:,0]\n",
    "y = df.iloc[:,-1]\n",
    "X = X.to_numpy()\n",
    "X = X.reshape(-1,1)"
   ]
  },
  {
   "cell_type": "code",
   "execution_count": null,
   "metadata": {},
   "outputs": [],
   "source": [
    "### SVM Here\n",
    "\n",
    "# Fit regression model\n",
    "svr_rbf = SVR(kernel='rbf', C=1000, gamma=0.1, epsilon=.1)\n",
    "svr_lin = SVR(kernel='linear', C=1000, gamma=0.1)\n",
    "svr_poly = SVR(kernel='poly', C=1000, gamma=0.1, degree=0, epsilon=.1,\n",
    "               coef0=1)"
   ]
  },
  {
   "cell_type": "code",
   "execution_count": null,
   "metadata": {},
   "outputs": [],
   "source": []
  }
 ],
 "metadata": {
  "kernelspec": {
   "display_name": "Python 3",
   "language": "python",
   "name": "python3"
  },
  "language_info": {
   "codemirror_mode": {
    "name": "ipython",
    "version": 3
   },
   "file_extension": ".py",
   "mimetype": "text/x-python",
   "name": "python",
   "nbconvert_exporter": "python",
   "pygments_lexer": "ipython3",
   "version": "3.8.1"
  }
 },
 "nbformat": 4,
 "nbformat_minor": 4
}
