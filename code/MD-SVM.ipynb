{
 "cells": [
  {
   "cell_type": "code",
   "execution_count": 1,
   "metadata": {},
   "outputs": [],
   "source": [
    "import pandas as pd \n",
    "import numpy as np\n",
    "import pickle\n",
    "import matplotlib.pyplot as plt\n",
    "from sklearn import svm\n",
    "from sklearn.svm import SVR\n",
    "from sklearn.model_selection import train_test_split\n",
    "from sklearn.metrics import r2_score\n",
    "from sklearn.metrics import mean_squared_error\n",
    "from sklearn.preprocessing import MinMaxScaler"
   ]
  },
  {
   "cell_type": "code",
   "execution_count": 12,
   "metadata": {
    "code_folding": []
   },
   "outputs": [
    {
     "data": {
      "text/plain": [
       "((74, 73), (19, 3775))"
      ]
     },
     "execution_count": 12,
     "metadata": {},
     "output_type": "execute_result"
    }
   ],
   "source": [
    "bestDesc = pickle.load(open('./data/bestDescV1.pkl', 'rb'))\n",
    "train = pickle.load(open('./dtTrain.pkl', 'rb'))\n",
    "test = pd.read_csv(\"data/TestSetNoId.csv\")"
   ]
  },
  {
   "cell_type": "code",
   "execution_count": 3,
   "metadata": {},
   "outputs": [
    {
     "data": {
      "text/plain": [
       "((74, 6), (19, 6))"
      ]
     },
     "execution_count": 3,
     "metadata": {},
     "output_type": "execute_result"
    }
   ],
   "source": [
    "dfTrain = train.loc[:,bestDesc]\n",
    "dfTest = test.loc[:,bestDesc]\n",
    "\n",
    "dfTrain.shape, dfTest.shape"
   ]
  },
  {
   "cell_type": "code",
   "execution_count": 4,
   "metadata": {
    "code_folding": []
   },
   "outputs": [],
   "source": [
    "# 0. Preparation Data\n",
    "x_train = dfTrain.iloc[:,:]\n",
    "x_test = dfTest.iloc[:,:]\n",
    "y_train = train.iloc[:, [-1]]\n",
    "y_test = test.iloc[:,[-1]]"
   ]
  },
  {
   "cell_type": "code",
   "execution_count": 6,
   "metadata": {},
   "outputs": [],
   "source": [
    "scaler = MinMaxScaler()\n",
    "scaler.fit(x_train)\n",
    "scale_x_train = scaler.transform(x_train)\n",
    "scale_x_test = scaler.transform(x_test)"
   ]
  },
  {
   "cell_type": "code",
   "execution_count": 7,
   "metadata": {},
   "outputs": [
    {
     "data": {
      "text/plain": [
       "SVR(C=1.0, cache_size=200, coef0=0.0, degree=3, epsilon=0.1, gamma='scale',\n",
       "    kernel='rbf', max_iter=-1, shrinking=True, tol=0.001, verbose=False)"
      ]
     },
     "execution_count": 7,
     "metadata": {},
     "output_type": "execute_result"
    }
   ],
   "source": [
    "model = SVR()\n",
    "model"
   ]
  },
  {
   "cell_type": "code",
   "execution_count": 9,
   "metadata": {},
   "outputs": [
    {
     "name": "stderr",
     "output_type": "stream",
     "text": [
      "c:\\users\\muhammad fajar rizqi\\appdata\\local\\programs\\python\\python38-32\\lib\\site-packages\\sklearn\\utils\\validation.py:760: DataConversionWarning: A column-vector y was passed when a 1d array was expected. Please change the shape of y to (n_samples, ), for example using ravel().\n",
      "  y = column_or_1d(y, warn=True)\n"
     ]
    },
    {
     "data": {
      "text/plain": [
       "SVR(C=1.0, cache_size=200, coef0=0.0, degree=3, epsilon=0.1, gamma='scale',\n",
       "    kernel='rbf', max_iter=-1, shrinking=True, tol=0.001, verbose=False)"
      ]
     },
     "execution_count": 9,
     "metadata": {},
     "output_type": "execute_result"
    }
   ],
   "source": [
    "model.fit(scale_x_train, y_train)"
   ]
  },
  {
   "cell_type": "code",
   "execution_count": 13,
   "metadata": {},
   "outputs": [
    {
     "data": {
      "text/plain": [
       "(array([5.55473141, 5.32862569, 6.00275829, 6.78568706, 7.78362418,\n",
       "        8.02052066, 7.00851697, 6.38109327, 7.84432851, 7.2122351 ,\n",
       "        7.71614877, 7.57772971, 5.80418989, 6.38381864, 6.47150095,\n",
       "        5.95448032, 7.91102314, 7.84185425, 8.08853784, 5.73820567,\n",
       "        7.91102314, 7.82106893, 7.78611036, 7.0801708 , 7.46759118,\n",
       "        5.97603172, 6.29427693, 7.98010163, 7.5944929 , 6.82741818,\n",
       "        7.99124268, 6.40543761, 6.96294019, 6.05554425, 6.42334974,\n",
       "        8.1593947 , 6.76141125, 7.19105673, 7.3439539 , 8.05454521,\n",
       "        7.78023691, 6.40885375, 6.62105467, 6.0649106 , 7.92186545,\n",
       "        7.55294786, 6.96787413, 6.55590228, 7.3339494 , 7.306947  ,\n",
       "        7.51446008, 7.94629554, 7.60210914, 6.96861795, 7.62872305,\n",
       "        7.00129413, 7.68503163, 7.12090323, 5.85311669, 6.34626913,\n",
       "        7.76734923, 8.05453744, 8.1460362 , 7.92686017, 6.56785378,\n",
       "        7.00147588, 6.74342245, 8.05349474, 6.63295322, 8.04104575,\n",
       "        7.53044795, 7.3162042 , 7.90018103, 5.82095045]),\n",
       " array([6.25455929, 7.9767327 , 6.26072513, 7.91635576, 7.6247521 ,\n",
       "        6.31360827, 6.67745271, 6.68351952, 6.87696247, 7.10228968,\n",
       "        6.98140729, 7.16588502, 6.62945303, 6.98605037, 6.99270687,\n",
       "        7.67480882, 7.92450477, 8.07610899, 8.04913494]))"
      ]
     },
     "execution_count": 13,
     "metadata": {},
     "output_type": "execute_result"
    }
   ],
   "source": [
    "y_train_pred = model.predict(scale_x_train)\n",
    "y_test_pred = model.predict(scale_x_test)\n",
    "y_train_pred, y_test_pred"
   ]
  },
  {
   "cell_type": "code",
   "execution_count": 14,
   "metadata": {},
   "outputs": [
    {
     "data": {
      "text/plain": [
       "(0.7875026347515465, -0.556032149228072)"
      ]
     },
     "execution_count": 14,
     "metadata": {},
     "output_type": "execute_result"
    }
   ],
   "source": [
    "r2_train = r2_score(y_train,y_train_pred)\n",
    "r2_test = r2_score(y_test,y_test_pred)\n",
    "\n",
    "r2_train, r2_test"
   ]
  },
  {
   "cell_type": "code",
   "execution_count": 18,
   "metadata": {},
   "outputs": [
    {
     "name": "stdout",
     "output_type": "stream",
     "text": [
      "[6.71] 6.25455929189502\n",
      "[7.119] 7.976732696737847\n",
      "[6.347] 6.260725133832136\n",
      "[6.057] 7.916355760881013\n",
      "[6.108] 7.624752104399285\n",
      "[6.468] 6.313608268152809\n",
      "[7.301] 6.677452707286358\n",
      "[7.26] 6.6835195201725845\n",
      "[6.921] 6.876962468360073\n",
      "[6.824] 7.102289680228559\n",
      "[6.468] 6.981407291775348\n",
      "[6.971] 7.165885017140978\n",
      "[6.824] 6.6294530258908\n",
      "[7.523] 6.98605036895559\n",
      "[7.337] 6.992706874562003\n",
      "[8.] 7.674808824118747\n",
      "[7.62] 7.924504765070247\n",
      "[7.222] 8.076108993864787\n",
      "[8.046] 8.049134943300364\n"
     ]
    }
   ],
   "source": [
    "for i in range(len(y_test)):\n",
    "    print(y_test.values[i], y_test_pred[i])"
   ]
  },
  {
   "cell_type": "code",
   "execution_count": 12,
   "metadata": {},
   "outputs": [
    {
     "name": "stdout",
     "output_type": "stream",
     "text": [
      "RMSE : 0.5290859329810076\n"
     ]
    }
   ],
   "source": [
    "mse = mean_squared_error(y_test,y_pred)\n",
    "rmse = np.sqrt(mse)\n",
    "print(\"RMSE :\" , rmse)"
   ]
  },
  {
   "cell_type": "code",
   "execution_count": 15,
   "metadata": {},
   "outputs": [
    {
     "name": "stdout",
     "output_type": "stream",
     "text": [
      "r2 : 0.10110344648328928\n"
     ]
    }
   ],
   "source": [
    "r2 = r2_score(y_test,pred)\n",
    "print(\"r2 :\",r2)"
   ]
  },
  {
   "cell_type": "code",
   "execution_count": null,
   "metadata": {
    "code_folding": [
     1
    ],
    "scrolled": true
   },
   "outputs": [],
   "source": [
    "# Testing 1 descriptor\n",
    "df = pd.DataFrame(list(zip(dfDesc.iloc[:,0], dtTrain.iloc[:,-1])), \n",
    "               columns =[dfDesc.columns.values[1], dtTrain.columns.values[-1]])\n",
    "df"
   ]
  },
  {
   "cell_type": "code",
   "execution_count": null,
   "metadata": {
    "code_folding": [
     0
    ]
   },
   "outputs": [],
   "source": [
    "# Get x & y for plot\n",
    "X = df.iloc[:,0]\n",
    "y = df.iloc[:,-1]\n",
    "X = X.to_numpy()\n",
    "X = X.reshape(-1,1)"
   ]
  },
  {
   "cell_type": "code",
   "execution_count": null,
   "metadata": {},
   "outputs": [],
   "source": [
    "### SVM Here\n",
    "\n",
    "# Fit regression model\n",
    "svr_rbf = SVR(kernel='rbf', C=1000, gamma=0.1, epsilon=.1)\n",
    "svr_lin = SVR(kernel='linear', C=1000, gamma=0.1)\n",
    "svr_poly = SVR(kernel='poly', C=1000, gamma=0.1, degree=0, epsilon=.1,\n",
    "               coef0=1)"
   ]
  },
  {
   "cell_type": "code",
   "execution_count": 15,
   "metadata": {},
   "outputs": [
    {
     "data": {
      "text/plain": [
       "<matplotlib.collections.PathCollection at 0x1258cc28>"
      ]
     },
     "execution_count": 15,
     "metadata": {},
     "output_type": "execute_result"
    },
    {
     "data": {
      "image/png": "[encoded data removed]",
      "text/plain": [
       "<Figure size 432x288 with 1 Axes>"
      ]
     },
     "metadata": {
      "needs_background": "light"
     },
     "output_type": "display_data"
    }
   ],
   "source": [
    "plt.scatter(y_train,y_train_pred)"
   ]
  },
  {
   "cell_type": "code",
   "execution_count": null,
   "metadata": {},
   "outputs": [],
   "source": []
  }
 ],
 "metadata": {
  "kernelspec": {
   "display_name": "Python 3",
   "language": "python",
   "name": "python3"
  },
  "language_info": {
   "codemirror_mode": {
    "name": "ipython",
    "version": 3
   },
   "file_extension": ".py",
   "mimetype": "text/x-python",
   "name": "python",
   "nbconvert_exporter": "python",
   "pygments_lexer": "ipython3",
   "version": "3.8.1"
  }
 },
 "nbformat": 4,
 "nbformat_minor": 4
}
