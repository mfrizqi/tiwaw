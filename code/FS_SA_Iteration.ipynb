{
 "cells": [
  {
   "cell_type": "code",
   "execution_count": 2,
   "metadata": {
    "code_folding": [
     1
    ]
   },
   "outputs": [],
   "source": [
    "import winsound\n",
    "def beepEnd():\n",
    "    d = 200\n",
    "    freq = [3000,5000,3000,5000]\n",
    "    for i in freq:\n",
    "        winsound.Beep(i, d)"
   ]
  },
  {
   "cell_type": "code",
   "execution_count": 3,
   "metadata": {
    "code_folding": [
     13,
     17
    ]
   },
   "outputs": [],
   "source": [
    "import warnings\n",
    "import pandas as pd \n",
    "import numpy as np\n",
    "import pickle \n",
    "from tqdm import tqdm\n",
    "import matplotlib.pyplot as plt\n",
    "from sklearn.linear_model import LinearRegression\n",
    "from sklearn.model_selection import train_test_split\n",
    "from sklearn.metrics import mean_squared_error\n",
    "from itertools import combinations\n",
    "from itertools import permutations\n",
    "\n",
    "\n",
    "def acceptanceProbability (bestMSE, newMSE, temp , K):\n",
    "        # If the new solution is worse, calculate an acceptance probability\n",
    "        return np.exp( K * (newMSE - bestMSE) / temp)\n",
    "    \n",
    "def calcMSE(combDesc, x_train, x_val, y_train, y_val, model):\n",
    "    x_train_slice = x_train.iloc[:,combDesc]\n",
    "    x_val_slice = x_val.iloc[:,combDesc]\n",
    "    model.fit(x_train_slice, y_train)\n",
    "    y_pred = model.predict(x_val_slice)\n",
    "    return mean_squared_error(y_val, y_pred)\n",
    "\n",
    "warnings.filterwarnings('ignore')\n",
    "unpick_dtTrain = pd.read_pickle(\"./dtTrain.pkl\")\n",
    "inDt = open(\"dtTrain.pkl\",\"rb\")\n",
    "dtTrain = pickle.load(inDt)\n",
    "# dtTrain.head()"
   ]
  },
  {
   "cell_type": "code",
   "execution_count": 3,
   "metadata": {},
   "outputs": [],
   "source": [
    "descName = unpick_dtTrain.columns.to_list()"
   ]
  },
  {
   "cell_type": "code",
   "execution_count": 4,
   "metadata": {
    "code_folding": [
     0
    ]
   },
   "outputs": [],
   "source": [
    "##### SIMULATED ANNEALING #####\n",
    "\n",
    "# 0. Preparation Data\n",
    "train, val = train_test_split(dtTrain, test_size = 0.2, random_state = 45)\n",
    "\n",
    "x_train = train.iloc[:,:-1]\n",
    "x_val = val.iloc[:,:-1]\n",
    "y_train = train.iloc[:, [-1]]\n",
    "y_val = val.iloc[:,[-1]]\n",
    "\n",
    "model = LinearRegression()"
   ]
  },
  {
   "cell_type": "code",
   "execution_count": null,
   "metadata": {
    "code_folding": [
     0
    ],
    "scrolled": true
   },
   "outputs": [],
   "source": [
    "##### INTO DE SA DE LA'SOIN #####\n",
    "descNum = 6\n",
    "descMSE_20 = []\n",
    "\n",
    "for j in tqdm(range(20)):\n",
    "    # 3.1Initiate Values\n",
    "    initTemp, temp = 100, 100\n",
    "    tempEnd = 0.1\n",
    "    cooling_rate = 0.98\n",
    "    iteration = 5 \n",
    "\n",
    "    # 3.1 Simulated Annealing\n",
    "    bestList = []\n",
    "    bestMSEList = []\n",
    "    sounded = True\n",
    "\n",
    "    # 3.2 Initialize solution & Best MSE (Random 6 descriptor)\n",
    "    bestSol = np.random.choice(x_train.shape[1],descNum, replace=False)\n",
    "    bestSol = list(bestSol)\n",
    "    bestSol.sort()\n",
    "\n",
    "    # 3.3 MSE\n",
    "    bestMSE = calcMSE(bestSol, x_train, x_val, y_train, y_val, model)\n",
    "    while temp > tempEnd:\n",
    "        for i in range(iteration):\n",
    "\n",
    "            # 3.3.1 Create new solution & new MSE\n",
    "            newSol = np.random.choice(x_train.shape[1], descNum, replace=False)\n",
    "            newMSE = calcMSE(newSol, x_train, x_val, y_train, y_val, model)\n",
    "            deltaMSE = newMSE - bestMSE\n",
    "            K = (initTemp * np.log(0.8)) / deltaMSE\n",
    "\n",
    "            if newMSE < bestMSE :\n",
    "                bestMSE = newMSE\n",
    "                bestSol = newSol\n",
    "                bestList.append([bestMSE,bestSol])\n",
    "            else :\n",
    "                if acceptanceProbability (bestMSE, newMSE, temp , K) > np.random.rand(0,1):\n",
    "                    bestMSE = newMSE\n",
    "                    bestSol = newSol\n",
    "                    bestList.append([bestMSE,bestSol])\n",
    "\n",
    "        temp *= cooling_rate\n",
    "        bestMSEList.append(bestMSE)\n",
    "\n",
    "    descMSE_20.append([bestList[-1][0],bestList[-1][1],bestMSEList])\n",
    "beepEnd()"
   ]
  },
  {
   "cell_type": "code",
   "execution_count": null,
   "metadata": {},
   "outputs": [],
   "source": [
    "pd.DataFrame(descMSE_20)"
   ]
  },
  {
   "cell_type": "code",
   "execution_count": null,
   "metadata": {},
   "outputs": [],
   "source": [
    "dfBestDM = pd.DataFrame(descMSE_20)\n",
    "dfBestDM.columns=[\"MSE\",\"solution\",\"growth\"]\n",
    "dfBestDM.sort_values('MSE', inplace=True)\n",
    "dfBestDM.reset_index(drop=True, inplace= True)\n",
    "dfBestDM"
   ]
  },
  {
   "cell_type": "code",
   "execution_count": null,
   "metadata": {},
   "outputs": [],
   "source": [
    "bestDescriptor = []\n",
    "for i in dfBestDM.iloc[0,1]:\n",
    "    bestDescriptor.append(descName[i])\n",
    "\n",
    "bestMSEGrowth = dfBestDM.iloc[0,2]"
   ]
  },
  {
   "cell_type": "code",
   "execution_count": null,
   "metadata": {},
   "outputs": [],
   "source": [
    "# Pickle descriptor name\n",
    "pickle.dump(dfBestDM, open('./data/MSE_EvolutionV2.pkl', 'wb'))\n",
    "pickle.dump(bestDescriptor, open('./data/bestDescV2.pkl', 'wb'))\n",
    "pickle.dump(bestMSEGrowth, open('./data/bestMSEGrowthV2.pkl','wb'))"
   ]
  },
  {
   "cell_type": "code",
   "execution_count": 4,
   "metadata": {},
   "outputs": [],
   "source": [
    "MSE_Evol = pickle.load(open('./data/MSE_EvolutionV2.pkl', 'rb'))"
   ]
  },
  {
   "cell_type": "code",
   "execution_count": 10,
   "metadata": {},
   "outputs": [
    {
     "data": {
      "text/plain": [
       "Text(0, 0.5, 'MSE')"
      ]
     },
     "execution_count": 10,
     "metadata": {},
     "output_type": "execute_result"
    },
    {
     "data": {
      "image/png": "[encoded data removed]",
      "text/plain": [
       "<Figure size 432x288 with 1 Axes>"
      ]
     },
     "metadata": {
      "needs_background": "light"
     },
     "output_type": "display_data"
    }
   ],
   "source": [
    "type(MSE_Evol)\n",
    "# MSE_Evol\n",
    "dfBestDM = MSE_Evol.sort_values('MSE', ascending=False)\n",
    "df = dfBestDM.reset_index(drop=True)\n",
    "df.index += 1\n",
    "dfPlot = df.plot.bar()\n",
    "dfPlot.set_xlabel(\"Iteration\")\n",
    "dfPlot.set_ylabel(\"MSE\")"
   ]
  },
  {
   "cell_type": "code",
   "execution_count": null,
   "metadata": {},
   "outputs": [],
   "source": [
    "############## CUSTOMIZED CODE ##################################"
   ]
  },
  {
   "cell_type": "code",
   "execution_count": null,
   "metadata": {
    "scrolled": true
   },
   "outputs": [],
   "source": [
    "# bestMSEList\n",
    "dfBest.columns = [\"mse\",\"solution\"]\n",
    "dfBest.sort_values('mse', inplace=True)\n",
    "dfBest.reset_index(drop=True, inplace= True)\n",
    "dfBest"
   ]
  },
  {
   "cell_type": "code",
   "execution_count": null,
   "metadata": {},
   "outputs": [],
   "source": [
    "bestSolution = dfBest.loc[0,'solution']\n",
    "bestSolution = list(bestSolution)\n",
    "bestSolution.sort()\n",
    "bestSolution"
   ]
  },
  {
   "cell_type": "code",
   "execution_count": null,
   "metadata": {},
   "outputs": [],
   "source": [
    "bestDescriptor = []\n",
    "\n",
    "for i in bestSolution:\n",
    "    bestDescriptor.append(descName[i])\n",
    "bestDescriptor"
   ]
  },
  {
   "cell_type": "code",
   "execution_count": null,
   "metadata": {},
   "outputs": [],
   "source": [
    "mseNdarray = np.asarray(bestMSEList)\n",
    "type(mseNdarray)\n",
    "mseNdarray.dump(\"./bestMSEList_2.pkl\")\n",
    "dfBest.iloc[-1][1].dump(\"./bestDesc_2.pkl\")"
   ]
  },
  {
   "cell_type": "code",
   "execution_count": null,
   "metadata": {},
   "outputs": [],
   "source": [
    "len(mseNdarray)\n",
    "np.arange(0,len(mseNdarray),1)"
   ]
  },
  {
   "cell_type": "code",
   "execution_count": null,
   "metadata": {},
   "outputs": [],
   "source": [
    "import matplotlib.pyplot as plt\n",
    "import numpy as np\n",
    "\n",
    "#define variable x\n",
    "x = np.arange(0,len(mseNdarray),1)\n",
    "y = mseNdarray \n",
    "\n",
    "#plot the functions\n",
    "plt.grid()\n",
    "plt.xlabel(\"Iteration\")\n",
    "plt.ylabel(\"Mean Squared Error (MSE)\")\n",
    "\n",
    "plt.plot(x,y)"
   ]
  },
  {
   "cell_type": "code",
   "execution_count": null,
   "metadata": {},
   "outputs": [],
   "source": [
    "MSE_Evol = pickle.load(open('./data/MSE_EvolutionV2.pkl', 'rb'))\n",
    "bestDesc = pickle.load(open('./data/bestDescV2.pkl', 'rb'))\n",
    "bestMSEGrowth = pickle.load(open('./data/bestMSEGrowthV2.pkl', 'rb'))"
   ]
  },
  {
   "cell_type": "code",
   "execution_count": null,
   "metadata": {},
   "outputs": [],
   "source": [
    "bestDesc, MSE_Evol, bestMSEGrowth"
   ]
  },
  {
   "cell_type": "code",
   "execution_count": null,
   "metadata": {
    "scrolled": true
   },
   "outputs": [],
   "source": [
    "bestMSEGrowth"
   ]
  },
  {
   "cell_type": "code",
   "execution_count": null,
   "metadata": {
    "code_folding": [
     0
    ]
   },
   "outputs": [],
   "source": [
    "# First Best Run\n",
    "# BestDescriptors=  [31,18,54,36,8,51]\n",
    "# BestMSE =  0.24519892533514573\n",
    "\n",
    "# Second Best Run\n",
    "# Best Descriptors :  [53 61 18 69 36 34]\n",
    "# Best MSE :  0.22850883728849938\n",
    "\n",
    "# Best Descriptors :  [40 11  5 67 64 69]\n",
    "# Best MSE :  0.22858482530945248\n",
    "\n",
    "# Best Descriptors :  [38 51 55 58 36 18]\n",
    "# Best MSE :  0.20720460921006825"
   ]
  },
  {
   "cell_type": "code",
   "execution_count": null,
   "metadata": {
    "code_folding": [
     0
    ]
   },
   "outputs": [],
   "source": [
    "# ### Smallest Values before run 20s\n",
    "# bs = [38, 51, 55, 58, 36, 18]\n",
    "# bs.sort()\n",
    "# bs"
   ]
  },
  {
   "cell_type": "code",
   "execution_count": null,
   "metadata": {
    "code_folding": [
     0
    ]
   },
   "outputs": [],
   "source": [
    "# bds = []\n",
    "# for i in bs:\n",
    "#     bds.append(descName[i])\n",
    "# bds"
   ]
  },
  {
   "cell_type": "code",
   "execution_count": null,
   "metadata": {
    "code_folding": []
   },
   "outputs": [],
   "source": [
    "# pickle.dump(bds,open('./BestDescriptor.pkl','wb'))"
   ]
  }
 ],
 "metadata": {
  "kernelspec": {
   "display_name": "Python 3",
   "language": "python",
   "name": "python3"
  },
  "language_info": {
   "codemirror_mode": {
    "name": "ipython",
    "version": 3
   },
   "file_extension": ".py",
   "mimetype": "text/x-python",
   "name": "python",
   "nbconvert_exporter": "python",
   "pygments_lexer": "ipython3",
   "version": "3.8.2"
  }
 },
 "nbformat": 4,
 "nbformat_minor": 4
}
