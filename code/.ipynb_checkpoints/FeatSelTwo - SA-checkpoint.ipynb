{
 "cells": [
  {
   "cell_type": "code",
   "execution_count": 1,
   "metadata": {
    "scrolled": true
   },
   "outputs": [
    {
     "data": {
      "text/plain": [
       "73"
      ]
     },
     "execution_count": 1,
     "metadata": {},
     "output_type": "execute_result"
    }
   ],
   "source": [
    "import pandas as pd \n",
    "import numpy as np\n",
    "import pickle \n",
    "from sklearn.linear_model import LinearRegression\n",
    "from sklearn.model_selection import train_test_split\n",
    "from sklearn.metrics import mean_squared_error\n",
    "from itertools import combinations\n",
    "from itertools import permutations\n",
    "\n",
    "unpick_dtTrain = pd.read_pickle(\"./dtTrain.pkl\")\n",
    "inDt = open(\"dtTrain.pkl\",\"rb\")\n",
    "dtTrain = pickle.load(inDt)\n",
    "# print(unpick_dtTrain)\n",
    "# type(dtTrain)\n",
    "len(dtTrain.columns.values)"
   ]
  },
  {
   "cell_type": "code",
   "execution_count": 2,
   "metadata": {},
   "outputs": [
    {
     "name": "stdout",
     "output_type": "stream",
     "text": [
      "2324784\n",
      "2324784\n",
      "10\n"
     ]
    }
   ],
   "source": [
    "#BRUTE FORCING DESCRIPTORS\n",
    "col = []\n",
    "col2 = []\n",
    "col.extend(range(0,37))\n",
    "col2.extend(range(37,74))\n",
    "lCol = list(combinations(col,6))\n",
    "lCol2 = list(combinations(col2,6))\n",
    "print(len(lCol))\n",
    "print(len(lCol2))\n",
    "print(lCol[36][5])"
   ]
  },
  {
   "cell_type": "code",
   "execution_count": 3,
   "metadata": {
    "scrolled": true
   },
   "outputs": [],
   "source": [
    "train, val = train_test_split(dtTrain, test_size = 0.2, random_state = 45)\n",
    "# train"
   ]
  },
  {
   "cell_type": "code",
   "execution_count": 4,
   "metadata": {},
   "outputs": [],
   "source": [
    "x_train = train.iloc[:,:-1]\n",
    "x_val = val.iloc[:,:-1]\n",
    "y_train = train.iloc[:, [-1]]\n",
    "y_val = val.iloc[:,[-1]]"
   ]
  },
  {
   "cell_type": "code",
   "execution_count": 5,
   "metadata": {},
   "outputs": [],
   "source": [
    "model = LinearRegression()"
   ]
  },
  {
   "cell_type": "code",
   "execution_count": 36,
   "metadata": {},
   "outputs": [],
   "source": [
    "#Preparing loops for brute force\n",
    "\n",
    "MSEList1 = []\n",
    "MSEList2 = []\n",
    "\n",
    "#Calculate MSE BF\n",
    "\n",
    "for x in range(0,37):\n",
    "    combList = []\n",
    "    combList.append(lCol[x][0])\n",
    "    for y in range (1,6):\n",
    "        combList.append(lCol[x][y])\n",
    "    x_train_slice = x_train.iloc[:,combList]\n",
    "    x_val_slice = x_val.iloc[:,combList]\n",
    "    model.fit(x_train_slice, y_train)\n",
    "    y_pred = model.predict(x_val_slice)\n",
    "    mse = mean_squared_error(y_val, y_pred)\n",
    "    combList.append(mse)\n",
    "    MSEList1.append(combList)\n",
    "\n",
    "dfMSE1 = pd.DataFrame(MSEList1,columns=['idx1','idx2','idx3','idx4','idx5','idx6','MSE'])\n",
    "    \n",
    "for x in range(37,74):\n",
    "    combList = []\n",
    "    combList.append(lCol2[x][0])\n",
    "    for y in range (1,6):\n",
    "        combList.append(lCol[x][y])\n",
    "    x_train_slice = x_train.iloc[:,combList]\n",
    "    x_val_slice = x_val.iloc[:,combList]\n",
    "    model.fit(x_train_slice, y_train)\n",
    "    y_pred = model.predict(x_val_slice)\n",
    "    mse = mean_squared_error(y_val, y_pred)\n",
    "    combList.append(mse)\n",
    "    MSEList2.append(combList)\n",
    "\n",
    "dfMSE2 = pd.DataFrame(MSEList2,columns=['idx1','idx2','idx3','idx4','idx5','idx6','MSE'])"
   ]
  },
  {
   "cell_type": "code",
   "execution_count": 37,
   "metadata": {},
   "outputs": [
    {
     "name": "stdout",
     "output_type": "stream",
     "text": [
      "MSE 1 :  0.4789012841231415\n",
      "MSE 2 :  0.44485373652720417\n"
     ]
    }
   ],
   "source": [
    "#Find Minimum MSE from Dataframe MSE 1\n",
    "MSECol1 = dfMSE1.iloc[:,6]\n",
    "print('MSE 1 : ' , min(MSECol1))\n",
    "MSECol2 = dfMSE2.iloc[:,6]\n",
    "print('MSE 2 : ' , min(MSECol2))"
   ]
  },
  {
   "cell_type": "code",
   "execution_count": 52,
   "metadata": {},
   "outputs": [
    {
     "name": "stdout",
     "output_type": "stream",
     "text": [
      "[37.0, 1.0, 2.0, 3.0, 5.0, 15.0]\n",
      "[1.0, 2.0, 3.0, 5.0, 15.0, 37.0]\n",
      "['AATS8v', 'AATS1i', 'AATS5i', 'ATSC5dv', 'ATSC4i', 'ATSC5s.1']\n"
     ]
    }
   ],
   "source": [
    "#Get row\n",
    "# print(MSECol2.isin([0.44485373652720417]))\n",
    "DescBF = []\n",
    "for z in range(0,6):\n",
    "    DescBF.append(dfMSE2.iloc[4][z])\n",
    "print(DescBF)\n",
    "#37,1,2,3,5,15\n",
    "DescBF.sort()\n",
    "print(DescBF)\n",
    "\n",
    "DescBFOrigin = []\n",
    "DescBFOrigin.append(dtTrain.columns.values[1])\n",
    "DescBFOrigin.append(dtTrain.columns.values[2])\n",
    "DescBFOrigin.append(dtTrain.columns.values[3])\n",
    "DescBFOrigin.append(dtTrain.columns.values[5])\n",
    "DescBFOrigin.append(dtTrain.columns.values[15])\n",
    "DescBFOrigin.append(dtTrain.columns.values[37])\n",
    "\n",
    "print(DescBFOrigin)\n"
   ]
  },
  {
   "cell_type": "code",
   "execution_count": null,
   "metadata": {},
   "outputs": [],
   "source": []
  }
 ],
 "metadata": {
  "kernelspec": {
   "display_name": "Python 3",
   "language": "python",
   "name": "python3"
  },
  "language_info": {
   "codemirror_mode": {
    "name": "ipython",
    "version": 3
   },
   "file_extension": ".py",
   "mimetype": "text/x-python",
   "name": "python",
   "nbconvert_exporter": "python",
   "pygments_lexer": "ipython3",
   "version": "3.8.1"
  }
 },
 "nbformat": 4,
 "nbformat_minor": 4
}
