{
 "cells": [
  {
   "cell_type": "code",
   "execution_count": 1,
   "metadata": {},
   "outputs": [],
   "source": [
    "import pandas as pd \n",
    "import numpy as np\n",
    "import pickle\n",
    "import matplotlib.pyplot as plt\n",
    "from sklearn import svm\n",
    "from sklearn.svm import SVR\n",
    "from sklearn.model_selection import train_test_split\n",
    "from sklearn.metrics import r2_score"
   ]
  },
  {
   "cell_type": "code",
   "execution_count": 2,
   "metadata": {},
   "outputs": [],
   "source": [
    "bestDesc = pd.read_pickle(\"./bestDesc_2.pkl\")\n",
    "inDt = open(\"dtTrain.pkl\",\"rb\")\n",
    "dtTrain = pickle.load(inDt)"
   ]
  },
  {
   "cell_type": "code",
   "execution_count": null,
   "metadata": {},
   "outputs": [],
   "source": []
  },
  {
   "cell_type": "code",
   "execution_count": null,
   "metadata": {},
   "outputs": [],
   "source": []
  },
  {
   "cell_type": "code",
   "execution_count": 3,
   "metadata": {},
   "outputs": [
    {
     "data": {
      "text/html": [
       "<div>\n",
       "<style scoped>\n",
       "    .dataframe tbody tr th:only-of-type {\n",
       "        vertical-align: middle;\n",
       "    }\n",
       "\n",
       "    .dataframe tbody tr th {\n",
       "        vertical-align: top;\n",
       "    }\n",
       "\n",
       "    .dataframe thead th {\n",
       "        text-align: right;\n",
       "    }\n",
       "</style>\n",
       "<table border=\"1\" class=\"dataframe\">\n",
       "  <thead>\n",
       "    <tr style=\"text-align: right;\">\n",
       "      <th></th>\n",
       "      <th>ATSC8i</th>\n",
       "      <th>AATS8i.1</th>\n",
       "      <th>AATSC2m.1</th>\n",
       "      <th>minHBint8</th>\n",
       "      <th>VR1_D.1</th>\n",
       "      <th>TDB2i</th>\n",
       "      <th>pIC50</th>\n",
       "    </tr>\n",
       "  </thead>\n",
       "  <tbody>\n",
       "    <tr>\n",
       "      <th>0</th>\n",
       "      <td>-20.758012</td>\n",
       "      <td>159.953681</td>\n",
       "      <td>5.092376</td>\n",
       "      <td>6.180178</td>\n",
       "      <td>466.565513</td>\n",
       "      <td>335.249385</td>\n",
       "      <td>4.456</td>\n",
       "    </tr>\n",
       "    <tr>\n",
       "      <th>1</th>\n",
       "      <td>-30.632765</td>\n",
       "      <td>159.924810</td>\n",
       "      <td>7.394354</td>\n",
       "      <td>6.281989</td>\n",
       "      <td>422.581769</td>\n",
       "      <td>335.080199</td>\n",
       "      <td>4.347</td>\n",
       "    </tr>\n",
       "    <tr>\n",
       "      <th>2</th>\n",
       "      <td>-10.921772</td>\n",
       "      <td>158.706072</td>\n",
       "      <td>1.418981</td>\n",
       "      <td>5.698752</td>\n",
       "      <td>335.216905</td>\n",
       "      <td>341.987316</td>\n",
       "      <td>6.065</td>\n",
       "    </tr>\n",
       "    <tr>\n",
       "      <th>3</th>\n",
       "      <td>-3.816241</td>\n",
       "      <td>164.222189</td>\n",
       "      <td>3.601224</td>\n",
       "      <td>1.015258</td>\n",
       "      <td>354.727498</td>\n",
       "      <td>343.954939</td>\n",
       "      <td>6.886</td>\n",
       "    </tr>\n",
       "    <tr>\n",
       "      <th>4</th>\n",
       "      <td>15.509146</td>\n",
       "      <td>159.730980</td>\n",
       "      <td>2.301659</td>\n",
       "      <td>1.177545</td>\n",
       "      <td>475.172900</td>\n",
       "      <td>341.449839</td>\n",
       "      <td>7.796</td>\n",
       "    </tr>\n",
       "    <tr>\n",
       "      <th>...</th>\n",
       "      <td>...</td>\n",
       "      <td>...</td>\n",
       "      <td>...</td>\n",
       "      <td>...</td>\n",
       "      <td>...</td>\n",
       "      <td>...</td>\n",
       "      <td>...</td>\n",
       "    </tr>\n",
       "    <tr>\n",
       "      <th>69</th>\n",
       "      <td>16.899469</td>\n",
       "      <td>159.735476</td>\n",
       "      <td>0.973873</td>\n",
       "      <td>1.140946</td>\n",
       "      <td>474.080424</td>\n",
       "      <td>341.429617</td>\n",
       "      <td>7.921</td>\n",
       "    </tr>\n",
       "    <tr>\n",
       "      <th>70</th>\n",
       "      <td>-4.973443</td>\n",
       "      <td>158.033357</td>\n",
       "      <td>3.538858</td>\n",
       "      <td>1.159097</td>\n",
       "      <td>488.974277</td>\n",
       "      <td>344.011456</td>\n",
       "      <td>7.244</td>\n",
       "    </tr>\n",
       "    <tr>\n",
       "      <th>71</th>\n",
       "      <td>-1.365204</td>\n",
       "      <td>157.661439</td>\n",
       "      <td>2.194781</td>\n",
       "      <td>1.388731</td>\n",
       "      <td>496.944782</td>\n",
       "      <td>350.214738</td>\n",
       "      <td>8.046</td>\n",
       "    </tr>\n",
       "    <tr>\n",
       "      <th>72</th>\n",
       "      <td>16.501901</td>\n",
       "      <td>159.960147</td>\n",
       "      <td>1.271488</td>\n",
       "      <td>1.191122</td>\n",
       "      <td>548.432553</td>\n",
       "      <td>341.487368</td>\n",
       "      <td>8.000</td>\n",
       "    </tr>\n",
       "    <tr>\n",
       "      <th>73</th>\n",
       "      <td>-2.247294</td>\n",
       "      <td>159.067584</td>\n",
       "      <td>4.517120</td>\n",
       "      <td>5.652428</td>\n",
       "      <td>286.952942</td>\n",
       "      <td>332.282293</td>\n",
       "      <td>5.721</td>\n",
       "    </tr>\n",
       "  </tbody>\n",
       "</table>\n",
       "<p>74 rows × 7 columns</p>\n",
       "</div>"
      ],
      "text/plain": [
       "       ATSC8i    AATS8i.1  AATSC2m.1  minHBint8     VR1_D.1       TDB2i  pIC50\n",
       "0  -20.758012  159.953681   5.092376   6.180178  466.565513  335.249385  4.456\n",
       "1  -30.632765  159.924810   7.394354   6.281989  422.581769  335.080199  4.347\n",
       "2  -10.921772  158.706072   1.418981   5.698752  335.216905  341.987316  6.065\n",
       "3   -3.816241  164.222189   3.601224   1.015258  354.727498  343.954939  6.886\n",
       "4   15.509146  159.730980   2.301659   1.177545  475.172900  341.449839  7.796\n",
       "..        ...         ...        ...        ...         ...         ...    ...\n",
       "69  16.899469  159.735476   0.973873   1.140946  474.080424  341.429617  7.921\n",
       "70  -4.973443  158.033357   3.538858   1.159097  488.974277  344.011456  7.244\n",
       "71  -1.365204  157.661439   2.194781   1.388731  496.944782  350.214738  8.046\n",
       "72  16.501901  159.960147   1.271488   1.191122  548.432553  341.487368  8.000\n",
       "73  -2.247294  159.067584   4.517120   5.652428  286.952942  332.282293  5.721\n",
       "\n",
       "[74 rows x 7 columns]"
      ]
     },
     "execution_count": 3,
     "metadata": {},
     "output_type": "execute_result"
    }
   ],
   "source": [
    "descList = []\n",
    "bestDesc.sort()\n",
    "for i in bestDesc:\n",
    "    descList.append(dtTrain.iloc[:,i])\n",
    "\n",
    "dfDesc = pd.DataFrame(descList)\n",
    "dfDesc = dfDesc.append(dtTrain.iloc[:,-1])\n",
    "dfDesc = dfDesc.T\n",
    "dfDesc"
   ]
  },
  {
   "cell_type": "code",
   "execution_count": 4,
   "metadata": {},
   "outputs": [],
   "source": [
    "# 0. Preparation Data\n",
    "train, test = train_test_split(dfDesc, test_size = 0.2, random_state = 45)\n",
    "\n",
    "x_train = train.iloc[:,:-1]\n",
    "x_test = test.iloc[:,:-1]\n",
    "y_train = train.iloc[:, [-1]]\n",
    "y_test = test.iloc[:,[-1]]"
   ]
  },
  {
   "cell_type": "code",
   "execution_count": 5,
   "metadata": {},
   "outputs": [
    {
     "data": {
      "text/plain": [
       "SVR(C=1.0, cache_size=200, coef0=0.0, degree=3, epsilon=0.1, gamma='scale',\n",
       "    kernel='rbf', max_iter=-1, shrinking=True, tol=0.001, verbose=False)"
      ]
     },
     "execution_count": 5,
     "metadata": {},
     "output_type": "execute_result"
    }
   ],
   "source": [
    "model = SVR()\n",
    "model"
   ]
  },
  {
   "cell_type": "code",
   "execution_count": 8,
   "metadata": {},
   "outputs": [
    {
     "name": "stderr",
     "output_type": "stream",
     "text": [
      "c:\\users\\muhammad fajar rizqi\\appdata\\local\\programs\\python\\python38-32\\lib\\site-packages\\sklearn\\utils\\validation.py:760: DataConversionWarning: A column-vector y was passed when a 1d array was expected. Please change the shape of y to (n_samples, ), for example using ravel().\n",
      "  y = column_or_1d(y, warn=True)\n"
     ]
    },
    {
     "data": {
      "text/plain": [
       "SVR(C=1.0, cache_size=200, coef0=0.0, degree=3, epsilon=0.1, gamma='scale',\n",
       "    kernel='rbf', max_iter=-1, shrinking=True, tol=0.001, verbose=False)"
      ]
     },
     "execution_count": 8,
     "metadata": {},
     "output_type": "execute_result"
    }
   ],
   "source": [
    "model.fit(x_train, y_train)\n",
    "# pred = model.predict(x_test)\n",
    "# dfPred = pd.DataFrame(pred)\n",
    "# dfPred\n",
    "# y_test\n",
    "# r2 = model.score(y_test, pred)\n",
    "# r2"
   ]
  },
  {
   "cell_type": "code",
   "execution_count": null,
   "metadata": {
    "scrolled": true
   },
   "outputs": [],
   "source": [
    "# Testing 1 descriptor\n",
    "df = pd.DataFrame(list(zip(dfDesc.iloc[:,0], dtTrain.iloc[:,-1])), \n",
    "               columns =[dfDesc.columns.values[1], dtTrain.columns.values[-1]])\n",
    "df"
   ]
  },
  {
   "cell_type": "code",
   "execution_count": null,
   "metadata": {},
   "outputs": [],
   "source": [
    "# Get x & y for plot\n",
    "X = df.iloc[:,0]\n",
    "y = df.iloc[:,-1]\n",
    "X = X.to_numpy()\n",
    "X = X.reshape(-1,1)"
   ]
  },
  {
   "cell_type": "code",
   "execution_count": null,
   "metadata": {},
   "outputs": [],
   "source": [
    "### SVM Here\n",
    "\n",
    "# Fit regression model\n",
    "svr_rbf = SVR(kernel='rbf', C=1000, gamma=0.1, epsilon=.1)\n",
    "svr_lin = SVR(kernel='linear', C=1000, gamma=0.1)\n",
    "svr_poly = SVR(kernel='poly', C=1000, gamma=0.1, degree=0, epsilon=.1,\n",
    "               coef0=1)"
   ]
  },
  {
   "cell_type": "code",
   "execution_count": null,
   "metadata": {},
   "outputs": [],
   "source": [
    "# Look at the results\n",
    "# lw = 2\n",
    "\n",
    "# svrs = [svr_rbf, svr_lin, svr_poly]\n",
    "# kernel_label = ['RBF', 'Linear', 'Polynomial']\n",
    "# model_color = ['m', 'c', 'g']\n",
    "\n",
    "# fig, axes = plt.subplots(nrows=1, ncols=3, figsize=(15, 10), sharey=True)\n",
    "# for ix, svr in enumerate(svrs):\n",
    "#     axes[ix].plot(X, svr.fit(X, y).predict(X), color=model_color[ix], lw=lw,\n",
    "#                   label='{} model'.format(kernel_label[ix]))\n",
    "#     axes[ix].scatter(X[svr.support_], y[svr.support_], facecolor=\"none\",\n",
    "#                      edgecolor=model_color[ix], s=50,\n",
    "#                      label='{} support vectors'.format(kernel_label[ix]))\n",
    "#     axes[ix].scatter(X[np.setdiff1d(np.arange(len(X)), svr.support_)],\n",
    "#                      y[np.setdiff1d(np.arange(len(X)), svr.support_)],\n",
    "#                      facecolor=\"none\", edgecolor=\"k\", s=50,\n",
    "#                      label='other training data')\n",
    "#     axes[ix].legend(loc='upper center', bbox_to_anchor=(0.5, 1.1),\n",
    "#                     ncol=1, fancybox=True, shadow=True)\n",
    "\n",
    "# fig.text(0.5, 0.04, 'data', ha='center', va='center')\n",
    "# fig.text(0.06, 0.5, 'target', ha='center', va='center', rotation='vertical')\n",
    "# fig.suptitle(\"Support Vector Regression\", fontsize=14)\n",
    "# # plt.show()"
   ]
  },
  {
   "cell_type": "code",
   "execution_count": null,
   "metadata": {},
   "outputs": [],
   "source": []
  }
 ],
 "metadata": {
  "kernelspec": {
   "display_name": "Python 3",
   "language": "python",
   "name": "python3"
  },
  "language_info": {
   "codemirror_mode": {
    "name": "ipython",
    "version": 3
   },
   "file_extension": ".py",
   "mimetype": "text/x-python",
   "name": "python",
   "nbconvert_exporter": "python",
   "pygments_lexer": "ipython3",
   "version": "3.8.1"
  }
 },
 "nbformat": 4,
 "nbformat_minor": 4
}
